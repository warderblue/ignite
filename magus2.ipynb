{
 "cells": [
  {
   "cell_type": "code",
   "execution_count": 8,
   "metadata": {},
   "outputs": [],
   "source": [
    "import numpy as np\n",
    "import matplotlib.pyplot as plt\n",
    "%matplotlib inline"
   ]
  },
  {
   "cell_type": "code",
   "execution_count": 235,
   "metadata": {},
   "outputs": [],
   "source": [
    "fireball_time = 3.0 # Fireball cast time\n",
    "scorch_time = 1.5\n",
    "pyro_time = 6.0\n",
    "ignite_tick_time = 2.0\n",
    "ignite_refresh = 4.000000000000001 # Ignite debuff duration (make sure to get 2 ticks)\n",
    "scorch_refresh = 30.0\n",
    "scorch_duration_for_cast = 5.0\n",
    "N_mage = 2 # Number of mages\n",
    "crit_chances = np.ones(N_mage) * 0.4 # all mages have equal crit chance\n",
    "spell_powers = np.ones(N_mage) * 700 # all mages have 500 sp\n",
    "hit_chances = 0.83 + 0.06 + np.ones(N_mage) * 0.07 # all mages have 7% hit from gear\n",
    "scorch_idx = crit_chances.argmin() # designate scorch bitch as lowest crit'er"
   ]
  },
  {
   "cell_type": "code",
   "execution_count": 236,
   "metadata": {},
   "outputs": [],
   "source": [
    "def get_base_dmg(spellid=0, sp=0, rank=12):\n",
    "    if spellid==0: #fireball\n",
    "        if rank==11:\n",
    "            base_dmg = np.random.uniform(561, 715) + 1*sp\n",
    "        elif rank==12:\n",
    "            base_dmg = np.random.uniform(596, 760) + 1*sp\n",
    "        else:\n",
    "            raise ValueError\n",
    "    elif spellid==1: #pyro\n",
    "        base_dmg = np.random.uniform(716, 890) + 1*sp\n",
    "    elif spellid==2: #scorch\n",
    "        base_dmg = np.random.uniform(237, 280) + 0.429*sp\n",
    "    else:\n",
    "        raise ValueError\n",
    "    return base_dmg"
   ]
  },
  {
   "cell_type": "code",
   "execution_count": 237,
   "metadata": {},
   "outputs": [],
   "source": [
    "def run_trial(verbose=False):\n",
    "    time_till_cast = np.random.rand(N_mage) * 2.0\n",
    "    casting = -np.ones(N_mage)\n",
    "    number_casts_started = np.zeros(N_mage)\n",
    "    damage_done = np.zeros(N_mage)\n",
    "    ignite_owner = -1\n",
    "    ignite_left = 0.0\n",
    "    ignite_stacks = 0\n",
    "    ignite_tick_dmg = 0.0\n",
    "    time_till_tick = 0.0\n",
    "    scorch_left = 0.0\n",
    "    scorch_stacks = 0\n",
    "    absolute_time = 0.0\n",
    "    if verbose: print((\"%.2f: initial casts at: \"+\", \".join([\"%.2f\"]*N_mage)) % (absolute_time, *time_till_cast))\n",
    "    while absolute_time < 90.0:\n",
    "        if ignite_stacks > 0 and time_till_tick < time_till_cast.min() and (scorch_stacks==0 or time_till_tick < scorch_left):\n",
    "            if time_till_tick > ignite_left:\n",
    "                absolute_time += ignite_left\n",
    "                time_till_cast -= ignite_left\n",
    "                scorch_left -= ignite_left\n",
    "                ignite_left = 0.0\n",
    "                ignite_stacks = 0\n",
    "                ignite_tick_dmg = 0\n",
    "\n",
    "            else:\n",
    "                absolute_time += time_till_tick\n",
    "                time_till_cast -= time_till_tick\n",
    "                ignite_left -= time_till_tick\n",
    "                scorch_left -= time_till_tick\n",
    "                time_till_tick = ignite_tick_time\n",
    "                damage_done[ignite_owner] += ignite_tick_dmg\n",
    "                if verbose: print(\"%.2f: Ignite ticked for %d.\" % (absolute_time, ignite_tick_dmg))\n",
    "        elif scorch_stacks > 0 and scorch_left < time_till_cast.min():\n",
    "            absolute_time += scorch_left\n",
    "            time_till_cast -= scorch_left\n",
    "            time_till_tick -= scorch_left\n",
    "            ignite_left -= scorch_left\n",
    "            scorch_stacks = 0\n",
    "            scorch_left = 0.0\n",
    "            if verbose: print(\"%.2f: Scorch dropped.\" % absolute_time)\n",
    "        else:\n",
    "            #which mage\n",
    "            mage_idx = time_till_cast.argmin()\n",
    "            next_cast_time = time_till_cast[mage_idx]\n",
    "            absolute_time += next_cast_time\n",
    "            time_till_cast -= next_cast_time\n",
    "\n",
    "            if ignite_stacks > 0:\n",
    "                if next_cast_time > ignite_left: # ignite dropped\n",
    "                    ignite_left = 0.0\n",
    "                    ignite_stacks = 0\n",
    "                    ignite_tick_dmg = 0\n",
    "                    if verbose: print(\"%.2f: Ignite dropped.\" % absolute_time)\n",
    "                else:\n",
    "                    time_till_tick -= next_cast_time\n",
    "                    ignite_left -= next_cast_time\n",
    "            if scorch_stacks >0:\n",
    "                if next_cast_time > scorch_left: # scorch dropped\n",
    "                    scorch_left = 0.0\n",
    "                    scorch_stacks = 0\n",
    "                    if verbose: print(\"%.2f: Scorch dropped.\" % absolute_time)\n",
    "                else:\n",
    "                    scorch_left -= next_cast_time\n",
    "\n",
    "            # damage, etc. from last spell\n",
    "            if number_casts_started[mage_idx]>0: # at least one spell was cast\n",
    "                if np.random.rand() < hit_chances[mage_idx]: # spell hit\n",
    "                    dmg = get_base_dmg(casting[mage_idx], sp=spell_powers[mage_idx])\n",
    "                    dmg *= 1.1 * 1.1 * (1 + 0.03 * scorch_stacks) # CoE, 10% fire dmg talent, and imp scorch\n",
    "                    if np.random.rand() < crit_chances[mage_idx]: # spell crit\n",
    "                        dmg *= 1.5\n",
    "                        if ignite_stacks==0:\n",
    "                            ignite_owner = mage_idx\n",
    "                            time_till_tick = ignite_tick_time\n",
    "                        if ignite_stacks<5:\n",
    "                            ignite_stacks += 1\n",
    "                            ignite_tick_dmg += dmg * 0.2 * 1.1 * (1 + 0.03 * scorch_stacks)\n",
    "                        ignite_left = ignite_refresh\n",
    "                        if verbose: print(\"%.2f: %d ignite stacks.\" % (absolute_time, ignite_stacks))\n",
    "                    if verbose: print(\"%.2f: spell landed by %d\" % (absolute_time, mage_idx))\n",
    "                    damage_done[mage_idx] += dmg\n",
    "                    if casting[mage_idx]==2: # was casting scorch\n",
    "                        if np.random.rand() < hit_chances[mage_idx]: # imp scorch hit\n",
    "                            scorch_stacks = min(scorch_stacks+1, 5)\n",
    "                            scorch_left = scorch_refresh\n",
    "                else:\n",
    "                    if verbose: print(\"%.2f: spell missed by %d\" % (absolute_time, mage_idx))\n",
    "\n",
    "            # what spell is cast next\n",
    "            if number_casts_started[mage_idx]==0: # cast initial scorch\n",
    "                casting[mage_idx] = 2\n",
    "                cast_time = scorch_time\n",
    "            elif number_casts_started[mage_idx]==1: # cast initial pyro\n",
    "                casting[mage_idx] = 1\n",
    "                cast_time = pyro_time\n",
    "            elif mage_idx==scorch_idx and (scorch_stacks<5 or scorch_left < scorch_duration_for_cast): # refresh scorch\n",
    "                if verbose: print(\"%.2f: refreshing scorch @ %.2f duration, %d stacks\" % (absolute_time, scorch_left, scorch_stacks))\n",
    "                casting[mage_idx] = 2\n",
    "                cast_time = scorch_time\n",
    "            else:\n",
    "                casting[mage_idx] = 0\n",
    "                cast_time = fireball_time\n",
    "            number_casts_started[mage_idx] += 1\n",
    "            time_till_cast[mage_idx] = cast_time\n",
    "            if verbose: print(\"%.2f: spell started by %d\" % (absolute_time, mage_idx))\n",
    "        if verbose: print(\"%.2f: ignitestacks:%d, left:%.2f, tilltick:%.2f, scorchstacks:%d, scorchleft:%.2f\" % (absolute_time, ignite_stacks, ignite_left, time_till_tick, scorch_stacks, scorch_left))\n",
    "            \n",
    "    return damage_done"
   ]
  },
  {
   "cell_type": "code",
   "execution_count": 238,
   "metadata": {},
   "outputs": [],
   "source": [
    "damage_dones = []\n",
    "for i in range(10000):\n",
    "    damage_dones.append(run_trial())\n",
    "damage_dones = np.array(damage_dones)"
   ]
  },
  {
   "cell_type": "code",
   "execution_count": 239,
   "metadata": {},
   "outputs": [
    {
     "data": {
      "image/png": "[encoded data removed]",
      "text/plain": [
       "<matplotlib.figure.Figure at 0x7f5ac6367cc0>"
      ]
     },
     "metadata": {},
     "output_type": "display_data"
    }
   ],
   "source": [
    "plt.hist(damage_dones.flatten()/90.0, bins=100, alpha=1, linewidth=0, label=\"Individual DPS\");\n",
    "plt.hist(damage_dones.mean(1)/90.0, bins=10, color='r', alpha=0.8, linewidth=0, label=\"Average DPS\");\n",
    "plt.xlabel(\"Damage per second\")\n",
    "plt.ylabel(\"Number of Trials\")\n",
    "plt.legend()\n",
    "plt.grid()\n",
    "#plt.savefig(\"N6_c40_h13_sp700.png\", dpi=80, transparent=False)"
   ]
  },
  {
   "cell_type": "code",
   "execution_count": 240,
   "metadata": {},
   "outputs": [
    {
     "data": {
      "text/plain": [
       "(839.96881830380221, 0.23747357879255554)"
      ]
     },
     "execution_count": 240,
     "metadata": {},
     "output_type": "execute_result"
    }
   ],
   "source": [
    "(damage_dones/90.0).mean(1).mean(), (damage_dones/90.0).mean(1).std()/np.sqrt(damage_dones.shape[0])"
   ]
  },
  {
   "cell_type": "code",
   "execution_count": null,
   "metadata": {},
   "outputs": [],
   "source": [
    "N=6, C=40, H=13, SP=700\n",
    "861.88114189231396 +- 0.28874650290059154\n",
    "N=6, C=40, H=13, SP=710\n",
    "867.66759902417868 +- 0.29044973853282391\n",
    "N=6, C=41, H=13, SP=700\n",
    "866.40040260707906 +- 0.28527467493952607\n",
    "N=6, C=40, H=14, SP=700\n",
    "869.99720889843866 +- 0.28105572533203194\n",
    "N=7, C=40, H=13, SP=700\n",
    "839.96881830380221 +- 0.23747357879255554"
   ]
  },
  {
   "cell_type": "code",
   "execution_count": 107,
   "metadata": {},
   "outputs": [],
   "source": [
    "n_hits_before_drop = []\n",
    "time_before_drop = []\n",
    "for i in range(10000):\n",
    "    time_till_cast = init_time_till_cast(cast_distribution=2)\n",
    "    cast_times = [] # times at which spells were cast\n",
    "    crit_record = [] # boolean record of spell critical or hit\n",
    "    IG_left = IG_refresh\n",
    "    for i in range(10000):\n",
    "        mage_idx = time_till_cast.argmin() # find which mage is casting next\n",
    "        next_cast_time = time_till_cast[mage_idx]\n",
    "        if next_cast_time > IG_left:\n",
    "            #print(\"Ignite dropped after %d casts.\" % i)\n",
    "            n_hits_before_drop.append(i)\n",
    "            time_before_drop.append(cast_times[-1])\n",
    "            break\n",
    "        cast_times.append(next_cast_time + (cast_times[-1] if len(cast_times) else 0)) # record time at which cast is made\n",
    "        time_till_cast -= next_cast_time # adjust all times till cast\n",
    "        time_till_cast[mage_idx] = FB_cast # adjust current mage's time till cast\n",
    "        if np.random.rand() < p_crit[mage_idx]: # this was a crit\n",
    "            crit_record.append(True)\n",
    "            IG_left =  IG_refresh       \n",
    "        else: # this was not a crit\n",
    "            crit_record.append(False)\n",
    "            IG_left -= next_cast_time\n",
    "    cast_times = np.array(cast_times)\n",
    "    crit_record = np.array(crit_record)\n",
    "    noncrit_record = np.logical_not(crit_record)\n",
    "    "
   ]
  },
  {
   "cell_type": "code",
   "execution_count": null,
   "metadata": {},
   "outputs": [],
   "source": [
    "def init_time_till_cast(cast_distribution=0):\n",
    "    if cast_distribution == 0: # all casting together\n",
    "        time_till_cast = np.zeros(N_mage)\n",
    "    elif cast_distribution == 1: # uniform random initial cast\n",
    "        latest_possible_start = 0.5\n",
    "        time_till_cast = np.random.rand(N_mage) * latest_possible_start\n",
    "    elif cast_distribution == 2: # uniform spread of casts\n",
    "        time_till_cast = np.linspace(0, IG_refresh, N_mage)\n",
    "    elif cast_distribution == 3: # normal distribution\n",
    "        peak, width = 0.5, 1\n",
    "        time_till_cast = np.random.normal(peak, width, 100000)\n",
    "        time_till_cast = time_till_cast[time_till_cast>=0][:N_mage]\n",
    "    elif cast_distribution == 4:\n",
    "        time_till_cast = np.array([0, 0.1, 0.4, 0.8, 2.2, 3.8, 3.9])\n",
    "        assert len(time_till_cast) == N_mage\n",
    "    return time_till_cast"
   ]
  },
  {
   "cell_type": "code",
   "execution_count": 133,
   "metadata": {},
   "outputs": [
    {
     "data": {
      "image/png": "[encoded data removed]",
      "text/plain": [
       "<matplotlib.figure.Figure at 0x7fb9d37ac080>"
      ]
     },
     "metadata": {},
     "output_type": "display_data"
    }
   ],
   "source": [
    "plt.figure(figsize=(6,2), dpi=120)\n",
    "plt.subplot(1,2,1)\n",
    "plt.hist(n_hits_before_drop, bins=50, cumulative=-1, normed=True);\n",
    "plt.grid()\n",
    "plt.xlabel(\"Number of casts\")\n",
    "plt.ylabel(\"Portion trials\\nwithout drop\")\n",
    "plt.title(\"%d mages @ %.1f %% crit\" % (N_mage, p_crit.mean()*100))\n",
    "plt.subplot(1,2,2)\n",
    "plt.hist(time_before_drop, bins=50, cumulative=-1, normed=True);\n",
    "plt.grid()\n",
    "plt.xlabel(\"Time (seconds)\")\n",
    "plt.ylabel(\"Portion trials\\nwithout drop\")\n",
    "plt.tight_layout()\n",
    "plt.savefig(\"7magus.jpg\", transparent=False)"
   ]
  },
  {
   "cell_type": "code",
   "execution_count": 106,
   "metadata": {},
   "outputs": [
    {
     "data": {
      "image/png": "[encoded data removed]",
      "text/plain": [
       "<matplotlib.figure.Figure at 0x7fb9d60decc0>"
      ]
     },
     "metadata": {},
     "output_type": "display_data"
    }
   ],
   "source": [
    "plt.plot(np.where(crit_record)[0], cast_times[crit_record], 'rx')\n",
    "plt.plot(np.where(np.logical_not(crit_record))[0], cast_times[np.logical_not(crit_record)], 'b.')\n",
    "plt.grid()\n",
    "low, high = plt.ylim()\n",
    "plt.yticks(np.arange(low, high, 4.0));"
   ]
  },
  {
   "cell_type": "code",
   "execution_count": null,
   "metadata": {},
   "outputs": [],
   "source": [
    "np"
   ]
  },
  {
   "cell_type": "code",
   "execution_count": 91,
   "metadata": {},
   "outputs": [
    {
     "name": "stdout",
     "output_type": "stream",
     "text": [
      "0 1\n",
      "1 1\n",
      "2 1\n",
      "3 1\n",
      "4 1\n"
     ]
    }
   ],
   "source": [
    "for i in range(5):\n",
    "    for j in range(3):\n",
    "        if j==1:\n",
    "            print(i,j)\n",
    "            break"
   ]
  },
  {
   "cell_type": "code",
   "execution_count": null,
   "metadata": {},
   "outputs": [],
   "source": []
  }
 ],
 "metadata": {
  "kernelspec": {
   "display_name": "Python 3 ana-1.2.11-py3",
   "language": "python",
   "name": "ana-1.2.11-py3"
  },
  "language_info": {
   "codemirror_mode": {
    "name": "ipython",
    "version": 3
   },
   "file_extension": ".py",
   "mimetype": "text/x-python",
   "name": "python",
   "nbconvert_exporter": "python",
   "pygments_lexer": "ipython3",
   "version": "3.5.3"
  }
 },
 "nbformat": 4,
 "nbformat_minor": 2
}
